{
 "cells": [
  {
   "cell_type": "code",
   "execution_count": 1,
   "metadata": {},
   "outputs": [],
   "source": [
    "import numpy as np\n",
    "import matplotlib.pyplot as plt\n",
    "import statsmodels.api as sms\n",
    "import pandas as pd\n",
    "%matplotlib inline"
   ]
  },
  {
   "cell_type": "code",
   "execution_count": 2,
   "metadata": {},
   "outputs": [],
   "source": [
    "df_airline= pd.read_csv('airline_passengers.csv')"
   ]
  },
  {
   "cell_type": "code",
   "execution_count": 3,
   "metadata": {},
   "outputs": [
    {
     "data": {
      "text/html": [
       "<div>\n",
       "<style scoped>\n",
       "    .dataframe tbody tr th:only-of-type {\n",
       "        vertical-align: middle;\n",
       "    }\n",
       "\n",
       "    .dataframe tbody tr th {\n",
       "        vertical-align: top;\n",
       "    }\n",
       "\n",
       "    .dataframe thead th {\n",
       "        text-align: right;\n",
       "    }\n",
       "</style>\n",
       "<table border=\"1\" class=\"dataframe\">\n",
       "  <thead>\n",
       "    <tr style=\"text-align: right;\">\n",
       "      <th></th>\n",
       "      <th>Month</th>\n",
       "      <th>Thousands of Passengers</th>\n",
       "    </tr>\n",
       "  </thead>\n",
       "  <tbody>\n",
       "    <tr>\n",
       "      <th>0</th>\n",
       "      <td>1949-01</td>\n",
       "      <td>112.0</td>\n",
       "    </tr>\n",
       "    <tr>\n",
       "      <th>1</th>\n",
       "      <td>1949-02</td>\n",
       "      <td>118.0</td>\n",
       "    </tr>\n",
       "    <tr>\n",
       "      <th>2</th>\n",
       "      <td>1949-03</td>\n",
       "      <td>132.0</td>\n",
       "    </tr>\n",
       "    <tr>\n",
       "      <th>3</th>\n",
       "      <td>1949-04</td>\n",
       "      <td>129.0</td>\n",
       "    </tr>\n",
       "    <tr>\n",
       "      <th>4</th>\n",
       "      <td>1949-05</td>\n",
       "      <td>121.0</td>\n",
       "    </tr>\n",
       "  </tbody>\n",
       "</table>\n",
       "</div>"
      ],
      "text/plain": [
       "     Month  Thousands of Passengers\n",
       "0  1949-01                    112.0\n",
       "1  1949-02                    118.0\n",
       "2  1949-03                    132.0\n",
       "3  1949-04                    129.0\n",
       "4  1949-05                    121.0"
      ]
     },
     "execution_count": 3,
     "metadata": {},
     "output_type": "execute_result"
    }
   ],
   "source": [
    "df_airline.head(5)"
   ]
  },
  {
   "cell_type": "code",
   "execution_count": 4,
   "metadata": {},
   "outputs": [
    {
     "data": {
      "text/plain": [
       "Month                      0\n",
       "Thousands of Passengers    1\n",
       "dtype: int64"
      ]
     },
     "execution_count": 4,
     "metadata": {},
     "output_type": "execute_result"
    }
   ],
   "source": [
    "df_airline.isnull().sum()"
   ]
  },
  {
   "cell_type": "code",
   "execution_count": 5,
   "metadata": {},
   "outputs": [],
   "source": [
    "df_airline.dropna(axis=0,inplace=True)"
   ]
  },
  {
   "cell_type": "code",
   "execution_count": 6,
   "metadata": {},
   "outputs": [
    {
     "data": {
      "text/plain": [
       "Month                      0\n",
       "Thousands of Passengers    0\n",
       "dtype: int64"
      ]
     },
     "execution_count": 6,
     "metadata": {},
     "output_type": "execute_result"
    }
   ],
   "source": [
    "df_airline.isnull().sum()"
   ]
  },
  {
   "cell_type": "code",
   "execution_count": 7,
   "metadata": {},
   "outputs": [
    {
     "name": "stdout",
     "output_type": "stream",
     "text": [
      "<class 'pandas.core.frame.DataFrame'>\n",
      "Int64Index: 144 entries, 0 to 143\n",
      "Data columns (total 2 columns):\n",
      " #   Column                   Non-Null Count  Dtype  \n",
      "---  ------                   --------------  -----  \n",
      " 0   Month                    144 non-null    object \n",
      " 1   Thousands of Passengers  144 non-null    float64\n",
      "dtypes: float64(1), object(1)\n",
      "memory usage: 3.4+ KB\n"
     ]
    }
   ],
   "source": [
    "df_airline.info()"
   ]
  },
  {
   "cell_type": "code",
   "execution_count": 8,
   "metadata": {},
   "outputs": [],
   "source": [
    "df_airline['Month'] = pd.to_datetime(df_airline['Month'])"
   ]
  },
  {
   "cell_type": "code",
   "execution_count": 9,
   "metadata": {},
   "outputs": [
    {
     "name": "stdout",
     "output_type": "stream",
     "text": [
      "<class 'pandas.core.frame.DataFrame'>\n",
      "Int64Index: 144 entries, 0 to 143\n",
      "Data columns (total 2 columns):\n",
      " #   Column                   Non-Null Count  Dtype         \n",
      "---  ------                   --------------  -----         \n",
      " 0   Month                    144 non-null    datetime64[ns]\n",
      " 1   Thousands of Passengers  144 non-null    float64       \n",
      "dtypes: datetime64[ns](1), float64(1)\n",
      "memory usage: 3.4 KB\n"
     ]
    }
   ],
   "source": [
    "df_airline.info()"
   ]
  },
  {
   "cell_type": "code",
   "execution_count": 10,
   "metadata": {},
   "outputs": [
    {
     "data": {
      "text/html": [
       "<div>\n",
       "<style scoped>\n",
       "    .dataframe tbody tr th:only-of-type {\n",
       "        vertical-align: middle;\n",
       "    }\n",
       "\n",
       "    .dataframe tbody tr th {\n",
       "        vertical-align: top;\n",
       "    }\n",
       "\n",
       "    .dataframe thead th {\n",
       "        text-align: right;\n",
       "    }\n",
       "</style>\n",
       "<table border=\"1\" class=\"dataframe\">\n",
       "  <thead>\n",
       "    <tr style=\"text-align: right;\">\n",
       "      <th></th>\n",
       "      <th>Month</th>\n",
       "      <th>Thousands of Passengers</th>\n",
       "    </tr>\n",
       "  </thead>\n",
       "  <tbody>\n",
       "    <tr>\n",
       "      <th>0</th>\n",
       "      <td>1949-01-01</td>\n",
       "      <td>112.0</td>\n",
       "    </tr>\n",
       "    <tr>\n",
       "      <th>1</th>\n",
       "      <td>1949-02-01</td>\n",
       "      <td>118.0</td>\n",
       "    </tr>\n",
       "    <tr>\n",
       "      <th>2</th>\n",
       "      <td>1949-03-01</td>\n",
       "      <td>132.0</td>\n",
       "    </tr>\n",
       "    <tr>\n",
       "      <th>3</th>\n",
       "      <td>1949-04-01</td>\n",
       "      <td>129.0</td>\n",
       "    </tr>\n",
       "    <tr>\n",
       "      <th>4</th>\n",
       "      <td>1949-05-01</td>\n",
       "      <td>121.0</td>\n",
       "    </tr>\n",
       "  </tbody>\n",
       "</table>\n",
       "</div>"
      ],
      "text/plain": [
       "       Month  Thousands of Passengers\n",
       "0 1949-01-01                    112.0\n",
       "1 1949-02-01                    118.0\n",
       "2 1949-03-01                    132.0\n",
       "3 1949-04-01                    129.0\n",
       "4 1949-05-01                    121.0"
      ]
     },
     "execution_count": 10,
     "metadata": {},
     "output_type": "execute_result"
    }
   ],
   "source": [
    "df_airline.head()"
   ]
  },
  {
   "cell_type": "code",
   "execution_count": 11,
   "metadata": {},
   "outputs": [],
   "source": [
    "df_airline.set_index('Month',inplace=True)"
   ]
  },
  {
   "cell_type": "code",
   "execution_count": 12,
   "metadata": {},
   "outputs": [
    {
     "data": {
      "text/html": [
       "<div>\n",
       "<style scoped>\n",
       "    .dataframe tbody tr th:only-of-type {\n",
       "        vertical-align: middle;\n",
       "    }\n",
       "\n",
       "    .dataframe tbody tr th {\n",
       "        vertical-align: top;\n",
       "    }\n",
       "\n",
       "    .dataframe thead th {\n",
       "        text-align: right;\n",
       "    }\n",
       "</style>\n",
       "<table border=\"1\" class=\"dataframe\">\n",
       "  <thead>\n",
       "    <tr style=\"text-align: right;\">\n",
       "      <th></th>\n",
       "      <th>Thousands of Passengers</th>\n",
       "    </tr>\n",
       "    <tr>\n",
       "      <th>Month</th>\n",
       "      <th></th>\n",
       "    </tr>\n",
       "  </thead>\n",
       "  <tbody>\n",
       "    <tr>\n",
       "      <th>1949-01-01</th>\n",
       "      <td>112.0</td>\n",
       "    </tr>\n",
       "    <tr>\n",
       "      <th>1949-02-01</th>\n",
       "      <td>118.0</td>\n",
       "    </tr>\n",
       "    <tr>\n",
       "      <th>1949-03-01</th>\n",
       "      <td>132.0</td>\n",
       "    </tr>\n",
       "    <tr>\n",
       "      <th>1949-04-01</th>\n",
       "      <td>129.0</td>\n",
       "    </tr>\n",
       "    <tr>\n",
       "      <th>1949-05-01</th>\n",
       "      <td>121.0</td>\n",
       "    </tr>\n",
       "    <tr>\n",
       "      <th>...</th>\n",
       "      <td>...</td>\n",
       "    </tr>\n",
       "    <tr>\n",
       "      <th>1960-08-01</th>\n",
       "      <td>606.0</td>\n",
       "    </tr>\n",
       "    <tr>\n",
       "      <th>1960-09-01</th>\n",
       "      <td>508.0</td>\n",
       "    </tr>\n",
       "    <tr>\n",
       "      <th>1960-10-01</th>\n",
       "      <td>461.0</td>\n",
       "    </tr>\n",
       "    <tr>\n",
       "      <th>1960-11-01</th>\n",
       "      <td>390.0</td>\n",
       "    </tr>\n",
       "    <tr>\n",
       "      <th>1960-12-01</th>\n",
       "      <td>432.0</td>\n",
       "    </tr>\n",
       "  </tbody>\n",
       "</table>\n",
       "<p>144 rows × 1 columns</p>\n",
       "</div>"
      ],
      "text/plain": [
       "            Thousands of Passengers\n",
       "Month                              \n",
       "1949-01-01                    112.0\n",
       "1949-02-01                    118.0\n",
       "1949-03-01                    132.0\n",
       "1949-04-01                    129.0\n",
       "1949-05-01                    121.0\n",
       "...                             ...\n",
       "1960-08-01                    606.0\n",
       "1960-09-01                    508.0\n",
       "1960-10-01                    461.0\n",
       "1960-11-01                    390.0\n",
       "1960-12-01                    432.0\n",
       "\n",
       "[144 rows x 1 columns]"
      ]
     },
     "execution_count": 12,
     "metadata": {},
     "output_type": "execute_result"
    }
   ],
   "source": [
    "df_airline"
   ]
  },
  {
   "cell_type": "code",
   "execution_count": 13,
   "metadata": {},
   "outputs": [
    {
     "data": {
      "text/plain": [
       "<matplotlib.axes._subplots.AxesSubplot at 0x1e0f3a2acc8>"
      ]
     },
     "execution_count": 13,
     "metadata": {},
     "output_type": "execute_result"
    },
    {
     "data": {
      "image/png": "[encoded data removed]",
      "text/plain": [
       "<Figure size 432x288 with 1 Axes>"
      ]
     },
     "metadata": {
      "needs_background": "light"
     },
     "output_type": "display_data"
    }
   ],
   "source": [
    "df_airline.plot()  #Seasonal Data"
   ]
  },
  {
   "cell_type": "code",
   "execution_count": 14,
   "metadata": {},
   "outputs": [],
   "source": [
    "from statsmodels.tsa.stattools import adfuller"
   ]
  },
  {
   "cell_type": "code",
   "execution_count": 26,
   "metadata": {},
   "outputs": [],
   "source": [
    "def adf_test(series):\n",
    "    result = adfuller(series)\n",
    "    print('ADF Statistics: {}'.format(result[0]))\n",
    "    print('p- value {}'.format(result[1]))\n",
    "    if result[1] <= 0.05:\n",
    "        print(\"Strong evidence against null hyposthesis , Reject Null hypothesis. data has no unit root and is stationary\")\n",
    "    else:\n",
    "        print(\"Weak evidence against null hypothesis, TIME series has a unit root\")"
   ]
  },
  {
   "cell_type": "code",
   "execution_count": 27,
   "metadata": {},
   "outputs": [
    {
     "name": "stdout",
     "output_type": "stream",
     "text": [
      "ADF Statistics: 0.8153688792060569\n",
      "p- value 0.9918802434376411\n",
      "Weak evidence against null hypothesis, TIME series has a unit root\n"
     ]
    }
   ],
   "source": [
    "adf_test(df_airline['Thousands of Passengers'])"
   ]
  },
  {
   "cell_type": "code",
   "execution_count": 28,
   "metadata": {},
   "outputs": [],
   "source": [
    "## USE DIFFERENCING TECHNIQUE"
   ]
  },
  {
   "cell_type": "code",
   "execution_count": 29,
   "metadata": {},
   "outputs": [],
   "source": [
    "df_airline['Passengers first difference']=df_airline['Thousands of Passengers']-df_airline['Thousands of Passengers'].shift(1)"
   ]
  },
  {
   "cell_type": "code",
   "execution_count": 30,
   "metadata": {},
   "outputs": [
    {
     "data": {
      "text/html": [
       "<div>\n",
       "<style scoped>\n",
       "    .dataframe tbody tr th:only-of-type {\n",
       "        vertical-align: middle;\n",
       "    }\n",
       "\n",
       "    .dataframe tbody tr th {\n",
       "        vertical-align: top;\n",
       "    }\n",
       "\n",
       "    .dataframe thead th {\n",
       "        text-align: right;\n",
       "    }\n",
       "</style>\n",
       "<table border=\"1\" class=\"dataframe\">\n",
       "  <thead>\n",
       "    <tr style=\"text-align: right;\">\n",
       "      <th></th>\n",
       "      <th>Thousands of Passengers</th>\n",
       "      <th>Passengers first difference</th>\n",
       "      <th>Passengers Second difference</th>\n",
       "    </tr>\n",
       "    <tr>\n",
       "      <th>Month</th>\n",
       "      <th></th>\n",
       "      <th></th>\n",
       "      <th></th>\n",
       "    </tr>\n",
       "  </thead>\n",
       "  <tbody>\n",
       "    <tr>\n",
       "      <th>1949-01-01</th>\n",
       "      <td>112.0</td>\n",
       "      <td>NaN</td>\n",
       "      <td>NaN</td>\n",
       "    </tr>\n",
       "    <tr>\n",
       "      <th>1949-02-01</th>\n",
       "      <td>118.0</td>\n",
       "      <td>6.0</td>\n",
       "      <td>NaN</td>\n",
       "    </tr>\n",
       "    <tr>\n",
       "      <th>1949-03-01</th>\n",
       "      <td>132.0</td>\n",
       "      <td>14.0</td>\n",
       "      <td>126.0</td>\n",
       "    </tr>\n",
       "    <tr>\n",
       "      <th>1949-04-01</th>\n",
       "      <td>129.0</td>\n",
       "      <td>-3.0</td>\n",
       "      <td>115.0</td>\n",
       "    </tr>\n",
       "    <tr>\n",
       "      <th>1949-05-01</th>\n",
       "      <td>121.0</td>\n",
       "      <td>-8.0</td>\n",
       "      <td>124.0</td>\n",
       "    </tr>\n",
       "  </tbody>\n",
       "</table>\n",
       "</div>"
      ],
      "text/plain": [
       "            Thousands of Passengers  Passengers first difference  \\\n",
       "Month                                                              \n",
       "1949-01-01                    112.0                          NaN   \n",
       "1949-02-01                    118.0                          6.0   \n",
       "1949-03-01                    132.0                         14.0   \n",
       "1949-04-01                    129.0                         -3.0   \n",
       "1949-05-01                    121.0                         -8.0   \n",
       "\n",
       "            Passengers Second difference  \n",
       "Month                                     \n",
       "1949-01-01                           NaN  \n",
       "1949-02-01                           NaN  \n",
       "1949-03-01                         126.0  \n",
       "1949-04-01                         115.0  \n",
       "1949-05-01                         124.0  "
      ]
     },
     "execution_count": 30,
     "metadata": {},
     "output_type": "execute_result"
    }
   ],
   "source": [
    "df_airline.head()"
   ]
  },
  {
   "cell_type": "code",
   "execution_count": 31,
   "metadata": {},
   "outputs": [
    {
     "name": "stdout",
     "output_type": "stream",
     "text": [
      "ADF Statistics: -2.8292668241699928\n",
      "p- value 0.05421329028382636\n",
      "Weak evidence against null hypothesis, TIME series has a unit root\n"
     ]
    }
   ],
   "source": [
    "adf_test(df_airline['Passengers first difference'].dropna())"
   ]
  },
  {
   "cell_type": "code",
   "execution_count": 32,
   "metadata": {},
   "outputs": [],
   "source": [
    "## USE DIFFERENCING TECHNIQUE"
   ]
  },
  {
   "cell_type": "code",
   "execution_count": 33,
   "metadata": {},
   "outputs": [],
   "source": [
    "df_airline['Passengers Second difference']=df_airline['Thousands of Passengers']-df_airline['Passengers first difference'].shift(1)"
   ]
  },
  {
   "cell_type": "code",
   "execution_count": 34,
   "metadata": {},
   "outputs": [
    {
     "name": "stdout",
     "output_type": "stream",
     "text": [
      "ADF Statistics: 0.9411483016889888\n",
      "p- value 0.9936044985593916\n",
      "Weak evidence against null hypothesis, TIME series has a unit root\n"
     ]
    }
   ],
   "source": [
    "adf_test(df_airline['Passengers Second difference'].dropna())"
   ]
  },
  {
   "cell_type": "code",
   "execution_count": 35,
   "metadata": {},
   "outputs": [],
   "source": [
    "df_airline['Passengers Third difference']=df_airline['Thousands of Passengers']-df_airline['Passengers Second difference'].shift(1)"
   ]
  },
  {
   "cell_type": "code",
   "execution_count": 36,
   "metadata": {},
   "outputs": [
    {
     "name": "stdout",
     "output_type": "stream",
     "text": [
      "ADF Statistics: -2.902243043948102\n",
      "p- value 0.04508778304296284\n",
      "Strong evidence against null hyposthesis , Reject Null hypothesis. data has no unit root and is stationary\n"
     ]
    }
   ],
   "source": [
    "adf_test(df_airline['Passengers Third difference'].dropna())"
   ]
  },
  {
   "cell_type": "code",
   "execution_count": 38,
   "metadata": {},
   "outputs": [],
   "source": [
    "##SEASONAL DATA HENCE FOR 12 MONTHS THE ADF TEST IS DONE\n",
    "df_airline['Passengers 12M difference']=df_airline['Thousands of Passengers']-df_airline['Thousands of Passengers'].shift(12)"
   ]
  },
  {
   "cell_type": "code",
   "execution_count": 39,
   "metadata": {},
   "outputs": [
    {
     "name": "stdout",
     "output_type": "stream",
     "text": [
      "ADF Statistics: -3.383020726492481\n",
      "p- value 0.011551493085514952\n",
      "Strong evidence against null hyposthesis , Reject Null hypothesis. data has no unit root and is stationary\n"
     ]
    }
   ],
   "source": [
    "adf_test(df_airline['Passengers 12M difference'].dropna())"
   ]
  },
  {
   "cell_type": "code",
   "execution_count": 37,
   "metadata": {},
   "outputs": [],
   "source": [
    "from statsmodels.graphics.tsaplots import plot_acf,plot_pacf"
   ]
  },
  {
   "cell_type": "code",
   "execution_count": 44,
   "metadata": {},
   "outputs": [
    {
     "data": {
      "image/png": "[encoded data removed]",
      "text/plain": [
       "<Figure size 432x288 with 1 Axes>"
      ]
     },
     "metadata": {
      "needs_background": "light"
     },
     "output_type": "display_data"
    }
   ],
   "source": [
    "acf = plot_acf((df_airline['Passengers 12M difference'].dropna()))"
   ]
  },
  {
   "cell_type": "code",
   "execution_count": 43,
   "metadata": {},
   "outputs": [
    {
     "data": {
      "image/png": "[encoded data removed]",
      "text/plain": [
       "<Figure size 432x288 with 1 Axes>"
      ]
     },
     "metadata": {
      "needs_background": "light"
     },
     "output_type": "display_data"
    }
   ],
   "source": [
    "result = plot_pacf(df_airline['Passengers Second difference'].dropna())"
   ]
  },
  {
   "cell_type": "code",
   "execution_count": 45,
   "metadata": {},
   "outputs": [
    {
     "data": {
      "image/png": "[encoded data removed]",
      "text/plain": [
       "<Figure size 432x288 with 1 Axes>"
      ]
     },
     "metadata": {
      "needs_background": "light"
     },
     "output_type": "display_data"
    }
   ],
   "source": [
    "result = plot_pacf(df_airline['Passengers 12M difference'].dropna())"
   ]
  },
  {
   "cell_type": "code",
   "execution_count": 46,
   "metadata": {},
   "outputs": [
    {
     "data": {
      "text/html": [
       "<div>\n",
       "<style scoped>\n",
       "    .dataframe tbody tr th:only-of-type {\n",
       "        vertical-align: middle;\n",
       "    }\n",
       "\n",
       "    .dataframe tbody tr th {\n",
       "        vertical-align: top;\n",
       "    }\n",
       "\n",
       "    .dataframe thead th {\n",
       "        text-align: right;\n",
       "    }\n",
       "</style>\n",
       "<table border=\"1\" class=\"dataframe\">\n",
       "  <thead>\n",
       "    <tr style=\"text-align: right;\">\n",
       "      <th></th>\n",
       "      <th>Thousands of Passengers</th>\n",
       "      <th>Passengers first difference</th>\n",
       "      <th>Passengers Second difference</th>\n",
       "      <th>Passengers Third difference</th>\n",
       "      <th>Passengers 12M difference</th>\n",
       "    </tr>\n",
       "    <tr>\n",
       "      <th>Month</th>\n",
       "      <th></th>\n",
       "      <th></th>\n",
       "      <th></th>\n",
       "      <th></th>\n",
       "      <th></th>\n",
       "    </tr>\n",
       "  </thead>\n",
       "  <tbody>\n",
       "    <tr>\n",
       "      <th>1949-01-01</th>\n",
       "      <td>112.0</td>\n",
       "      <td>NaN</td>\n",
       "      <td>NaN</td>\n",
       "      <td>NaN</td>\n",
       "      <td>NaN</td>\n",
       "    </tr>\n",
       "    <tr>\n",
       "      <th>1949-02-01</th>\n",
       "      <td>118.0</td>\n",
       "      <td>6.0</td>\n",
       "      <td>NaN</td>\n",
       "      <td>NaN</td>\n",
       "      <td>NaN</td>\n",
       "    </tr>\n",
       "    <tr>\n",
       "      <th>1949-03-01</th>\n",
       "      <td>132.0</td>\n",
       "      <td>14.0</td>\n",
       "      <td>126.0</td>\n",
       "      <td>NaN</td>\n",
       "      <td>NaN</td>\n",
       "    </tr>\n",
       "    <tr>\n",
       "      <th>1949-04-01</th>\n",
       "      <td>129.0</td>\n",
       "      <td>-3.0</td>\n",
       "      <td>115.0</td>\n",
       "      <td>3.0</td>\n",
       "      <td>NaN</td>\n",
       "    </tr>\n",
       "    <tr>\n",
       "      <th>1949-05-01</th>\n",
       "      <td>121.0</td>\n",
       "      <td>-8.0</td>\n",
       "      <td>124.0</td>\n",
       "      <td>6.0</td>\n",
       "      <td>NaN</td>\n",
       "    </tr>\n",
       "    <tr>\n",
       "      <th>...</th>\n",
       "      <td>...</td>\n",
       "      <td>...</td>\n",
       "      <td>...</td>\n",
       "      <td>...</td>\n",
       "      <td>...</td>\n",
       "    </tr>\n",
       "    <tr>\n",
       "      <th>1960-08-01</th>\n",
       "      <td>606.0</td>\n",
       "      <td>-16.0</td>\n",
       "      <td>519.0</td>\n",
       "      <td>47.0</td>\n",
       "      <td>47.0</td>\n",
       "    </tr>\n",
       "    <tr>\n",
       "      <th>1960-09-01</th>\n",
       "      <td>508.0</td>\n",
       "      <td>-98.0</td>\n",
       "      <td>524.0</td>\n",
       "      <td>-11.0</td>\n",
       "      <td>45.0</td>\n",
       "    </tr>\n",
       "    <tr>\n",
       "      <th>1960-10-01</th>\n",
       "      <td>461.0</td>\n",
       "      <td>-47.0</td>\n",
       "      <td>559.0</td>\n",
       "      <td>-63.0</td>\n",
       "      <td>54.0</td>\n",
       "    </tr>\n",
       "    <tr>\n",
       "      <th>1960-11-01</th>\n",
       "      <td>390.0</td>\n",
       "      <td>-71.0</td>\n",
       "      <td>437.0</td>\n",
       "      <td>-169.0</td>\n",
       "      <td>28.0</td>\n",
       "    </tr>\n",
       "    <tr>\n",
       "      <th>1960-12-01</th>\n",
       "      <td>432.0</td>\n",
       "      <td>42.0</td>\n",
       "      <td>503.0</td>\n",
       "      <td>-5.0</td>\n",
       "      <td>27.0</td>\n",
       "    </tr>\n",
       "  </tbody>\n",
       "</table>\n",
       "<p>144 rows × 5 columns</p>\n",
       "</div>"
      ],
      "text/plain": [
       "            Thousands of Passengers  Passengers first difference  \\\n",
       "Month                                                              \n",
       "1949-01-01                    112.0                          NaN   \n",
       "1949-02-01                    118.0                          6.0   \n",
       "1949-03-01                    132.0                         14.0   \n",
       "1949-04-01                    129.0                         -3.0   \n",
       "1949-05-01                    121.0                         -8.0   \n",
       "...                             ...                          ...   \n",
       "1960-08-01                    606.0                        -16.0   \n",
       "1960-09-01                    508.0                        -98.0   \n",
       "1960-10-01                    461.0                        -47.0   \n",
       "1960-11-01                    390.0                        -71.0   \n",
       "1960-12-01                    432.0                         42.0   \n",
       "\n",
       "            Passengers Second difference  Passengers Third difference  \\\n",
       "Month                                                                   \n",
       "1949-01-01                           NaN                          NaN   \n",
       "1949-02-01                           NaN                          NaN   \n",
       "1949-03-01                         126.0                          NaN   \n",
       "1949-04-01                         115.0                          3.0   \n",
       "1949-05-01                         124.0                          6.0   \n",
       "...                                  ...                          ...   \n",
       "1960-08-01                         519.0                         47.0   \n",
       "1960-09-01                         524.0                        -11.0   \n",
       "1960-10-01                         559.0                        -63.0   \n",
       "1960-11-01                         437.0                       -169.0   \n",
       "1960-12-01                         503.0                         -5.0   \n",
       "\n",
       "            Passengers 12M difference  \n",
       "Month                                  \n",
       "1949-01-01                        NaN  \n",
       "1949-02-01                        NaN  \n",
       "1949-03-01                        NaN  \n",
       "1949-04-01                        NaN  \n",
       "1949-05-01                        NaN  \n",
       "...                               ...  \n",
       "1960-08-01                       47.0  \n",
       "1960-09-01                       45.0  \n",
       "1960-10-01                       54.0  \n",
       "1960-11-01                       28.0  \n",
       "1960-12-01                       27.0  \n",
       "\n",
       "[144 rows x 5 columns]"
      ]
     },
     "execution_count": 46,
     "metadata": {},
     "output_type": "execute_result"
    }
   ],
   "source": [
    "df_airline"
   ]
  },
  {
   "cell_type": "code",
   "execution_count": 47,
   "metadata": {},
   "outputs": [],
   "source": [
    "from datetime import datetime,timedelta\n",
    "train_dataset_end = datetime(1955,12,1)\n",
    "test_dataset_end = datetime(1960,12,1)"
   ]
  },
  {
   "cell_type": "code",
   "execution_count": 48,
   "metadata": {},
   "outputs": [],
   "source": [
    "train_data = df_airline[:train_dataset_end]\n",
    "test_data= df_airline[train_dataset_end+timedelta(days=1):test_dataset_end]"
   ]
  },
  {
   "cell_type": "code",
   "execution_count": 49,
   "metadata": {},
   "outputs": [],
   "source": [
    "##Prediction"
   ]
  },
  {
   "cell_type": "code",
   "execution_count": 50,
   "metadata": {},
   "outputs": [],
   "source": [
    "pred_start_date = test_data.index[0]\n",
    "pred_end_date = test_data.index[-1]"
   ]
  },
  {
   "cell_type": "code",
   "execution_count": 51,
   "metadata": {},
   "outputs": [
    {
     "data": {
      "text/html": [
       "<div>\n",
       "<style scoped>\n",
       "    .dataframe tbody tr th:only-of-type {\n",
       "        vertical-align: middle;\n",
       "    }\n",
       "\n",
       "    .dataframe tbody tr th {\n",
       "        vertical-align: top;\n",
       "    }\n",
       "\n",
       "    .dataframe thead th {\n",
       "        text-align: right;\n",
       "    }\n",
       "</style>\n",
       "<table border=\"1\" class=\"dataframe\">\n",
       "  <thead>\n",
       "    <tr style=\"text-align: right;\">\n",
       "      <th></th>\n",
       "      <th>Thousands of Passengers</th>\n",
       "      <th>Passengers first difference</th>\n",
       "      <th>Passengers Second difference</th>\n",
       "      <th>Passengers Third difference</th>\n",
       "      <th>Passengers 12M difference</th>\n",
       "    </tr>\n",
       "    <tr>\n",
       "      <th>Month</th>\n",
       "      <th></th>\n",
       "      <th></th>\n",
       "      <th></th>\n",
       "      <th></th>\n",
       "      <th></th>\n",
       "    </tr>\n",
       "  </thead>\n",
       "  <tbody>\n",
       "    <tr>\n",
       "      <th>1956-01-01</th>\n",
       "      <td>284.0</td>\n",
       "      <td>6.0</td>\n",
       "      <td>243.0</td>\n",
       "      <td>-31.0</td>\n",
       "      <td>42.0</td>\n",
       "    </tr>\n",
       "    <tr>\n",
       "      <th>1956-02-01</th>\n",
       "      <td>277.0</td>\n",
       "      <td>-7.0</td>\n",
       "      <td>271.0</td>\n",
       "      <td>34.0</td>\n",
       "      <td>44.0</td>\n",
       "    </tr>\n",
       "    <tr>\n",
       "      <th>1956-03-01</th>\n",
       "      <td>317.0</td>\n",
       "      <td>40.0</td>\n",
       "      <td>324.0</td>\n",
       "      <td>46.0</td>\n",
       "      <td>50.0</td>\n",
       "    </tr>\n",
       "    <tr>\n",
       "      <th>1956-04-01</th>\n",
       "      <td>313.0</td>\n",
       "      <td>-4.0</td>\n",
       "      <td>273.0</td>\n",
       "      <td>-11.0</td>\n",
       "      <td>44.0</td>\n",
       "    </tr>\n",
       "    <tr>\n",
       "      <th>1956-05-01</th>\n",
       "      <td>318.0</td>\n",
       "      <td>5.0</td>\n",
       "      <td>322.0</td>\n",
       "      <td>45.0</td>\n",
       "      <td>48.0</td>\n",
       "    </tr>\n",
       "    <tr>\n",
       "      <th>1956-06-01</th>\n",
       "      <td>374.0</td>\n",
       "      <td>56.0</td>\n",
       "      <td>369.0</td>\n",
       "      <td>52.0</td>\n",
       "      <td>59.0</td>\n",
       "    </tr>\n",
       "    <tr>\n",
       "      <th>1956-07-01</th>\n",
       "      <td>413.0</td>\n",
       "      <td>39.0</td>\n",
       "      <td>357.0</td>\n",
       "      <td>44.0</td>\n",
       "      <td>49.0</td>\n",
       "    </tr>\n",
       "    <tr>\n",
       "      <th>1956-08-01</th>\n",
       "      <td>405.0</td>\n",
       "      <td>-8.0</td>\n",
       "      <td>366.0</td>\n",
       "      <td>48.0</td>\n",
       "      <td>58.0</td>\n",
       "    </tr>\n",
       "    <tr>\n",
       "      <th>1956-09-01</th>\n",
       "      <td>355.0</td>\n",
       "      <td>-50.0</td>\n",
       "      <td>363.0</td>\n",
       "      <td>-11.0</td>\n",
       "      <td>43.0</td>\n",
       "    </tr>\n",
       "    <tr>\n",
       "      <th>1956-10-01</th>\n",
       "      <td>306.0</td>\n",
       "      <td>-49.0</td>\n",
       "      <td>356.0</td>\n",
       "      <td>-57.0</td>\n",
       "      <td>32.0</td>\n",
       "    </tr>\n",
       "    <tr>\n",
       "      <th>1956-11-01</th>\n",
       "      <td>271.0</td>\n",
       "      <td>-35.0</td>\n",
       "      <td>320.0</td>\n",
       "      <td>-85.0</td>\n",
       "      <td>34.0</td>\n",
       "    </tr>\n",
       "    <tr>\n",
       "      <th>1956-12-01</th>\n",
       "      <td>306.0</td>\n",
       "      <td>35.0</td>\n",
       "      <td>341.0</td>\n",
       "      <td>-14.0</td>\n",
       "      <td>28.0</td>\n",
       "    </tr>\n",
       "    <tr>\n",
       "      <th>1957-01-01</th>\n",
       "      <td>315.0</td>\n",
       "      <td>9.0</td>\n",
       "      <td>280.0</td>\n",
       "      <td>-26.0</td>\n",
       "      <td>31.0</td>\n",
       "    </tr>\n",
       "    <tr>\n",
       "      <th>1957-02-01</th>\n",
       "      <td>301.0</td>\n",
       "      <td>-14.0</td>\n",
       "      <td>292.0</td>\n",
       "      <td>21.0</td>\n",
       "      <td>24.0</td>\n",
       "    </tr>\n",
       "    <tr>\n",
       "      <th>1957-03-01</th>\n",
       "      <td>356.0</td>\n",
       "      <td>55.0</td>\n",
       "      <td>370.0</td>\n",
       "      <td>64.0</td>\n",
       "      <td>39.0</td>\n",
       "    </tr>\n",
       "    <tr>\n",
       "      <th>1957-04-01</th>\n",
       "      <td>348.0</td>\n",
       "      <td>-8.0</td>\n",
       "      <td>293.0</td>\n",
       "      <td>-22.0</td>\n",
       "      <td>35.0</td>\n",
       "    </tr>\n",
       "    <tr>\n",
       "      <th>1957-05-01</th>\n",
       "      <td>355.0</td>\n",
       "      <td>7.0</td>\n",
       "      <td>363.0</td>\n",
       "      <td>62.0</td>\n",
       "      <td>37.0</td>\n",
       "    </tr>\n",
       "    <tr>\n",
       "      <th>1957-06-01</th>\n",
       "      <td>422.0</td>\n",
       "      <td>67.0</td>\n",
       "      <td>415.0</td>\n",
       "      <td>59.0</td>\n",
       "      <td>48.0</td>\n",
       "    </tr>\n",
       "    <tr>\n",
       "      <th>1957-07-01</th>\n",
       "      <td>465.0</td>\n",
       "      <td>43.0</td>\n",
       "      <td>398.0</td>\n",
       "      <td>50.0</td>\n",
       "      <td>52.0</td>\n",
       "    </tr>\n",
       "    <tr>\n",
       "      <th>1957-08-01</th>\n",
       "      <td>467.0</td>\n",
       "      <td>2.0</td>\n",
       "      <td>424.0</td>\n",
       "      <td>69.0</td>\n",
       "      <td>62.0</td>\n",
       "    </tr>\n",
       "    <tr>\n",
       "      <th>1957-09-01</th>\n",
       "      <td>404.0</td>\n",
       "      <td>-63.0</td>\n",
       "      <td>402.0</td>\n",
       "      <td>-20.0</td>\n",
       "      <td>49.0</td>\n",
       "    </tr>\n",
       "    <tr>\n",
       "      <th>1957-10-01</th>\n",
       "      <td>347.0</td>\n",
       "      <td>-57.0</td>\n",
       "      <td>410.0</td>\n",
       "      <td>-55.0</td>\n",
       "      <td>41.0</td>\n",
       "    </tr>\n",
       "    <tr>\n",
       "      <th>1957-11-01</th>\n",
       "      <td>305.0</td>\n",
       "      <td>-42.0</td>\n",
       "      <td>362.0</td>\n",
       "      <td>-105.0</td>\n",
       "      <td>34.0</td>\n",
       "    </tr>\n",
       "    <tr>\n",
       "      <th>1957-12-01</th>\n",
       "      <td>336.0</td>\n",
       "      <td>31.0</td>\n",
       "      <td>378.0</td>\n",
       "      <td>-26.0</td>\n",
       "      <td>30.0</td>\n",
       "    </tr>\n",
       "    <tr>\n",
       "      <th>1958-01-01</th>\n",
       "      <td>340.0</td>\n",
       "      <td>4.0</td>\n",
       "      <td>309.0</td>\n",
       "      <td>-38.0</td>\n",
       "      <td>25.0</td>\n",
       "    </tr>\n",
       "    <tr>\n",
       "      <th>1958-02-01</th>\n",
       "      <td>318.0</td>\n",
       "      <td>-22.0</td>\n",
       "      <td>314.0</td>\n",
       "      <td>9.0</td>\n",
       "      <td>17.0</td>\n",
       "    </tr>\n",
       "    <tr>\n",
       "      <th>1958-03-01</th>\n",
       "      <td>362.0</td>\n",
       "      <td>44.0</td>\n",
       "      <td>384.0</td>\n",
       "      <td>48.0</td>\n",
       "      <td>6.0</td>\n",
       "    </tr>\n",
       "    <tr>\n",
       "      <th>1958-04-01</th>\n",
       "      <td>348.0</td>\n",
       "      <td>-14.0</td>\n",
       "      <td>304.0</td>\n",
       "      <td>-36.0</td>\n",
       "      <td>0.0</td>\n",
       "    </tr>\n",
       "    <tr>\n",
       "      <th>1958-05-01</th>\n",
       "      <td>363.0</td>\n",
       "      <td>15.0</td>\n",
       "      <td>377.0</td>\n",
       "      <td>59.0</td>\n",
       "      <td>8.0</td>\n",
       "    </tr>\n",
       "    <tr>\n",
       "      <th>1958-06-01</th>\n",
       "      <td>435.0</td>\n",
       "      <td>72.0</td>\n",
       "      <td>420.0</td>\n",
       "      <td>58.0</td>\n",
       "      <td>13.0</td>\n",
       "    </tr>\n",
       "    <tr>\n",
       "      <th>1958-07-01</th>\n",
       "      <td>491.0</td>\n",
       "      <td>56.0</td>\n",
       "      <td>419.0</td>\n",
       "      <td>71.0</td>\n",
       "      <td>26.0</td>\n",
       "    </tr>\n",
       "    <tr>\n",
       "      <th>1958-08-01</th>\n",
       "      <td>505.0</td>\n",
       "      <td>14.0</td>\n",
       "      <td>449.0</td>\n",
       "      <td>86.0</td>\n",
       "      <td>38.0</td>\n",
       "    </tr>\n",
       "    <tr>\n",
       "      <th>1958-09-01</th>\n",
       "      <td>404.0</td>\n",
       "      <td>-101.0</td>\n",
       "      <td>390.0</td>\n",
       "      <td>-45.0</td>\n",
       "      <td>0.0</td>\n",
       "    </tr>\n",
       "    <tr>\n",
       "      <th>1958-10-01</th>\n",
       "      <td>359.0</td>\n",
       "      <td>-45.0</td>\n",
       "      <td>460.0</td>\n",
       "      <td>-31.0</td>\n",
       "      <td>12.0</td>\n",
       "    </tr>\n",
       "    <tr>\n",
       "      <th>1958-11-01</th>\n",
       "      <td>310.0</td>\n",
       "      <td>-49.0</td>\n",
       "      <td>355.0</td>\n",
       "      <td>-150.0</td>\n",
       "      <td>5.0</td>\n",
       "    </tr>\n",
       "    <tr>\n",
       "      <th>1958-12-01</th>\n",
       "      <td>337.0</td>\n",
       "      <td>27.0</td>\n",
       "      <td>386.0</td>\n",
       "      <td>-18.0</td>\n",
       "      <td>1.0</td>\n",
       "    </tr>\n",
       "    <tr>\n",
       "      <th>1959-01-01</th>\n",
       "      <td>360.0</td>\n",
       "      <td>23.0</td>\n",
       "      <td>333.0</td>\n",
       "      <td>-26.0</td>\n",
       "      <td>20.0</td>\n",
       "    </tr>\n",
       "    <tr>\n",
       "      <th>1959-02-01</th>\n",
       "      <td>342.0</td>\n",
       "      <td>-18.0</td>\n",
       "      <td>319.0</td>\n",
       "      <td>9.0</td>\n",
       "      <td>24.0</td>\n",
       "    </tr>\n",
       "    <tr>\n",
       "      <th>1959-03-01</th>\n",
       "      <td>406.0</td>\n",
       "      <td>64.0</td>\n",
       "      <td>424.0</td>\n",
       "      <td>87.0</td>\n",
       "      <td>44.0</td>\n",
       "    </tr>\n",
       "    <tr>\n",
       "      <th>1959-04-01</th>\n",
       "      <td>396.0</td>\n",
       "      <td>-10.0</td>\n",
       "      <td>332.0</td>\n",
       "      <td>-28.0</td>\n",
       "      <td>48.0</td>\n",
       "    </tr>\n",
       "    <tr>\n",
       "      <th>1959-05-01</th>\n",
       "      <td>420.0</td>\n",
       "      <td>24.0</td>\n",
       "      <td>430.0</td>\n",
       "      <td>88.0</td>\n",
       "      <td>57.0</td>\n",
       "    </tr>\n",
       "    <tr>\n",
       "      <th>1959-06-01</th>\n",
       "      <td>472.0</td>\n",
       "      <td>52.0</td>\n",
       "      <td>448.0</td>\n",
       "      <td>42.0</td>\n",
       "      <td>37.0</td>\n",
       "    </tr>\n",
       "    <tr>\n",
       "      <th>1959-07-01</th>\n",
       "      <td>548.0</td>\n",
       "      <td>76.0</td>\n",
       "      <td>496.0</td>\n",
       "      <td>100.0</td>\n",
       "      <td>57.0</td>\n",
       "    </tr>\n",
       "    <tr>\n",
       "      <th>1959-08-01</th>\n",
       "      <td>559.0</td>\n",
       "      <td>11.0</td>\n",
       "      <td>483.0</td>\n",
       "      <td>63.0</td>\n",
       "      <td>54.0</td>\n",
       "    </tr>\n",
       "    <tr>\n",
       "      <th>1959-09-01</th>\n",
       "      <td>463.0</td>\n",
       "      <td>-96.0</td>\n",
       "      <td>452.0</td>\n",
       "      <td>-20.0</td>\n",
       "      <td>59.0</td>\n",
       "    </tr>\n",
       "    <tr>\n",
       "      <th>1959-10-01</th>\n",
       "      <td>407.0</td>\n",
       "      <td>-56.0</td>\n",
       "      <td>503.0</td>\n",
       "      <td>-45.0</td>\n",
       "      <td>48.0</td>\n",
       "    </tr>\n",
       "    <tr>\n",
       "      <th>1959-11-01</th>\n",
       "      <td>362.0</td>\n",
       "      <td>-45.0</td>\n",
       "      <td>418.0</td>\n",
       "      <td>-141.0</td>\n",
       "      <td>52.0</td>\n",
       "    </tr>\n",
       "    <tr>\n",
       "      <th>1959-12-01</th>\n",
       "      <td>405.0</td>\n",
       "      <td>43.0</td>\n",
       "      <td>450.0</td>\n",
       "      <td>-13.0</td>\n",
       "      <td>68.0</td>\n",
       "    </tr>\n",
       "    <tr>\n",
       "      <th>1960-01-01</th>\n",
       "      <td>417.0</td>\n",
       "      <td>12.0</td>\n",
       "      <td>374.0</td>\n",
       "      <td>-33.0</td>\n",
       "      <td>57.0</td>\n",
       "    </tr>\n",
       "    <tr>\n",
       "      <th>1960-02-01</th>\n",
       "      <td>391.0</td>\n",
       "      <td>-26.0</td>\n",
       "      <td>379.0</td>\n",
       "      <td>17.0</td>\n",
       "      <td>49.0</td>\n",
       "    </tr>\n",
       "    <tr>\n",
       "      <th>1960-03-01</th>\n",
       "      <td>419.0</td>\n",
       "      <td>28.0</td>\n",
       "      <td>445.0</td>\n",
       "      <td>40.0</td>\n",
       "      <td>13.0</td>\n",
       "    </tr>\n",
       "    <tr>\n",
       "      <th>1960-04-01</th>\n",
       "      <td>461.0</td>\n",
       "      <td>42.0</td>\n",
       "      <td>433.0</td>\n",
       "      <td>16.0</td>\n",
       "      <td>65.0</td>\n",
       "    </tr>\n",
       "    <tr>\n",
       "      <th>1960-05-01</th>\n",
       "      <td>472.0</td>\n",
       "      <td>11.0</td>\n",
       "      <td>430.0</td>\n",
       "      <td>39.0</td>\n",
       "      <td>52.0</td>\n",
       "    </tr>\n",
       "    <tr>\n",
       "      <th>1960-06-01</th>\n",
       "      <td>535.0</td>\n",
       "      <td>63.0</td>\n",
       "      <td>524.0</td>\n",
       "      <td>105.0</td>\n",
       "      <td>63.0</td>\n",
       "    </tr>\n",
       "    <tr>\n",
       "      <th>1960-07-01</th>\n",
       "      <td>622.0</td>\n",
       "      <td>87.0</td>\n",
       "      <td>559.0</td>\n",
       "      <td>98.0</td>\n",
       "      <td>74.0</td>\n",
       "    </tr>\n",
       "    <tr>\n",
       "      <th>1960-08-01</th>\n",
       "      <td>606.0</td>\n",
       "      <td>-16.0</td>\n",
       "      <td>519.0</td>\n",
       "      <td>47.0</td>\n",
       "      <td>47.0</td>\n",
       "    </tr>\n",
       "    <tr>\n",
       "      <th>1960-09-01</th>\n",
       "      <td>508.0</td>\n",
       "      <td>-98.0</td>\n",
       "      <td>524.0</td>\n",
       "      <td>-11.0</td>\n",
       "      <td>45.0</td>\n",
       "    </tr>\n",
       "    <tr>\n",
       "      <th>1960-10-01</th>\n",
       "      <td>461.0</td>\n",
       "      <td>-47.0</td>\n",
       "      <td>559.0</td>\n",
       "      <td>-63.0</td>\n",
       "      <td>54.0</td>\n",
       "    </tr>\n",
       "    <tr>\n",
       "      <th>1960-11-01</th>\n",
       "      <td>390.0</td>\n",
       "      <td>-71.0</td>\n",
       "      <td>437.0</td>\n",
       "      <td>-169.0</td>\n",
       "      <td>28.0</td>\n",
       "    </tr>\n",
       "    <tr>\n",
       "      <th>1960-12-01</th>\n",
       "      <td>432.0</td>\n",
       "      <td>42.0</td>\n",
       "      <td>503.0</td>\n",
       "      <td>-5.0</td>\n",
       "      <td>27.0</td>\n",
       "    </tr>\n",
       "  </tbody>\n",
       "</table>\n",
       "</div>"
      ],
      "text/plain": [
       "            Thousands of Passengers  Passengers first difference  \\\n",
       "Month                                                              \n",
       "1956-01-01                    284.0                          6.0   \n",
       "1956-02-01                    277.0                         -7.0   \n",
       "1956-03-01                    317.0                         40.0   \n",
       "1956-04-01                    313.0                         -4.0   \n",
       "1956-05-01                    318.0                          5.0   \n",
       "1956-06-01                    374.0                         56.0   \n",
       "1956-07-01                    413.0                         39.0   \n",
       "1956-08-01                    405.0                         -8.0   \n",
       "1956-09-01                    355.0                        -50.0   \n",
       "1956-10-01                    306.0                        -49.0   \n",
       "1956-11-01                    271.0                        -35.0   \n",
       "1956-12-01                    306.0                         35.0   \n",
       "1957-01-01                    315.0                          9.0   \n",
       "1957-02-01                    301.0                        -14.0   \n",
       "1957-03-01                    356.0                         55.0   \n",
       "1957-04-01                    348.0                         -8.0   \n",
       "1957-05-01                    355.0                          7.0   \n",
       "1957-06-01                    422.0                         67.0   \n",
       "1957-07-01                    465.0                         43.0   \n",
       "1957-08-01                    467.0                          2.0   \n",
       "1957-09-01                    404.0                        -63.0   \n",
       "1957-10-01                    347.0                        -57.0   \n",
       "1957-11-01                    305.0                        -42.0   \n",
       "1957-12-01                    336.0                         31.0   \n",
       "1958-01-01                    340.0                          4.0   \n",
       "1958-02-01                    318.0                        -22.0   \n",
       "1958-03-01                    362.0                         44.0   \n",
       "1958-04-01                    348.0                        -14.0   \n",
       "1958-05-01                    363.0                         15.0   \n",
       "1958-06-01                    435.0                         72.0   \n",
       "1958-07-01                    491.0                         56.0   \n",
       "1958-08-01                    505.0                         14.0   \n",
       "1958-09-01                    404.0                       -101.0   \n",
       "1958-10-01                    359.0                        -45.0   \n",
       "1958-11-01                    310.0                        -49.0   \n",
       "1958-12-01                    337.0                         27.0   \n",
       "1959-01-01                    360.0                         23.0   \n",
       "1959-02-01                    342.0                        -18.0   \n",
       "1959-03-01                    406.0                         64.0   \n",
       "1959-04-01                    396.0                        -10.0   \n",
       "1959-05-01                    420.0                         24.0   \n",
       "1959-06-01                    472.0                         52.0   \n",
       "1959-07-01                    548.0                         76.0   \n",
       "1959-08-01                    559.0                         11.0   \n",
       "1959-09-01                    463.0                        -96.0   \n",
       "1959-10-01                    407.0                        -56.0   \n",
       "1959-11-01                    362.0                        -45.0   \n",
       "1959-12-01                    405.0                         43.0   \n",
       "1960-01-01                    417.0                         12.0   \n",
       "1960-02-01                    391.0                        -26.0   \n",
       "1960-03-01                    419.0                         28.0   \n",
       "1960-04-01                    461.0                         42.0   \n",
       "1960-05-01                    472.0                         11.0   \n",
       "1960-06-01                    535.0                         63.0   \n",
       "1960-07-01                    622.0                         87.0   \n",
       "1960-08-01                    606.0                        -16.0   \n",
       "1960-09-01                    508.0                        -98.0   \n",
       "1960-10-01                    461.0                        -47.0   \n",
       "1960-11-01                    390.0                        -71.0   \n",
       "1960-12-01                    432.0                         42.0   \n",
       "\n",
       "            Passengers Second difference  Passengers Third difference  \\\n",
       "Month                                                                   \n",
       "1956-01-01                         243.0                        -31.0   \n",
       "1956-02-01                         271.0                         34.0   \n",
       "1956-03-01                         324.0                         46.0   \n",
       "1956-04-01                         273.0                        -11.0   \n",
       "1956-05-01                         322.0                         45.0   \n",
       "1956-06-01                         369.0                         52.0   \n",
       "1956-07-01                         357.0                         44.0   \n",
       "1956-08-01                         366.0                         48.0   \n",
       "1956-09-01                         363.0                        -11.0   \n",
       "1956-10-01                         356.0                        -57.0   \n",
       "1956-11-01                         320.0                        -85.0   \n",
       "1956-12-01                         341.0                        -14.0   \n",
       "1957-01-01                         280.0                        -26.0   \n",
       "1957-02-01                         292.0                         21.0   \n",
       "1957-03-01                         370.0                         64.0   \n",
       "1957-04-01                         293.0                        -22.0   \n",
       "1957-05-01                         363.0                         62.0   \n",
       "1957-06-01                         415.0                         59.0   \n",
       "1957-07-01                         398.0                         50.0   \n",
       "1957-08-01                         424.0                         69.0   \n",
       "1957-09-01                         402.0                        -20.0   \n",
       "1957-10-01                         410.0                        -55.0   \n",
       "1957-11-01                         362.0                       -105.0   \n",
       "1957-12-01                         378.0                        -26.0   \n",
       "1958-01-01                         309.0                        -38.0   \n",
       "1958-02-01                         314.0                          9.0   \n",
       "1958-03-01                         384.0                         48.0   \n",
       "1958-04-01                         304.0                        -36.0   \n",
       "1958-05-01                         377.0                         59.0   \n",
       "1958-06-01                         420.0                         58.0   \n",
       "1958-07-01                         419.0                         71.0   \n",
       "1958-08-01                         449.0                         86.0   \n",
       "1958-09-01                         390.0                        -45.0   \n",
       "1958-10-01                         460.0                        -31.0   \n",
       "1958-11-01                         355.0                       -150.0   \n",
       "1958-12-01                         386.0                        -18.0   \n",
       "1959-01-01                         333.0                        -26.0   \n",
       "1959-02-01                         319.0                          9.0   \n",
       "1959-03-01                         424.0                         87.0   \n",
       "1959-04-01                         332.0                        -28.0   \n",
       "1959-05-01                         430.0                         88.0   \n",
       "1959-06-01                         448.0                         42.0   \n",
       "1959-07-01                         496.0                        100.0   \n",
       "1959-08-01                         483.0                         63.0   \n",
       "1959-09-01                         452.0                        -20.0   \n",
       "1959-10-01                         503.0                        -45.0   \n",
       "1959-11-01                         418.0                       -141.0   \n",
       "1959-12-01                         450.0                        -13.0   \n",
       "1960-01-01                         374.0                        -33.0   \n",
       "1960-02-01                         379.0                         17.0   \n",
       "1960-03-01                         445.0                         40.0   \n",
       "1960-04-01                         433.0                         16.0   \n",
       "1960-05-01                         430.0                         39.0   \n",
       "1960-06-01                         524.0                        105.0   \n",
       "1960-07-01                         559.0                         98.0   \n",
       "1960-08-01                         519.0                         47.0   \n",
       "1960-09-01                         524.0                        -11.0   \n",
       "1960-10-01                         559.0                        -63.0   \n",
       "1960-11-01                         437.0                       -169.0   \n",
       "1960-12-01                         503.0                         -5.0   \n",
       "\n",
       "            Passengers 12M difference  \n",
       "Month                                  \n",
       "1956-01-01                       42.0  \n",
       "1956-02-01                       44.0  \n",
       "1956-03-01                       50.0  \n",
       "1956-04-01                       44.0  \n",
       "1956-05-01                       48.0  \n",
       "1956-06-01                       59.0  \n",
       "1956-07-01                       49.0  \n",
       "1956-08-01                       58.0  \n",
       "1956-09-01                       43.0  \n",
       "1956-10-01                       32.0  \n",
       "1956-11-01                       34.0  \n",
       "1956-12-01                       28.0  \n",
       "1957-01-01                       31.0  \n",
       "1957-02-01                       24.0  \n",
       "1957-03-01                       39.0  \n",
       "1957-04-01                       35.0  \n",
       "1957-05-01                       37.0  \n",
       "1957-06-01                       48.0  \n",
       "1957-07-01                       52.0  \n",
       "1957-08-01                       62.0  \n",
       "1957-09-01                       49.0  \n",
       "1957-10-01                       41.0  \n",
       "1957-11-01                       34.0  \n",
       "1957-12-01                       30.0  \n",
       "1958-01-01                       25.0  \n",
       "1958-02-01                       17.0  \n",
       "1958-03-01                        6.0  \n",
       "1958-04-01                        0.0  \n",
       "1958-05-01                        8.0  \n",
       "1958-06-01                       13.0  \n",
       "1958-07-01                       26.0  \n",
       "1958-08-01                       38.0  \n",
       "1958-09-01                        0.0  \n",
       "1958-10-01                       12.0  \n",
       "1958-11-01                        5.0  \n",
       "1958-12-01                        1.0  \n",
       "1959-01-01                       20.0  \n",
       "1959-02-01                       24.0  \n",
       "1959-03-01                       44.0  \n",
       "1959-04-01                       48.0  \n",
       "1959-05-01                       57.0  \n",
       "1959-06-01                       37.0  \n",
       "1959-07-01                       57.0  \n",
       "1959-08-01                       54.0  \n",
       "1959-09-01                       59.0  \n",
       "1959-10-01                       48.0  \n",
       "1959-11-01                       52.0  \n",
       "1959-12-01                       68.0  \n",
       "1960-01-01                       57.0  \n",
       "1960-02-01                       49.0  \n",
       "1960-03-01                       13.0  \n",
       "1960-04-01                       65.0  \n",
       "1960-05-01                       52.0  \n",
       "1960-06-01                       63.0  \n",
       "1960-07-01                       74.0  \n",
       "1960-08-01                       47.0  \n",
       "1960-09-01                       45.0  \n",
       "1960-10-01                       54.0  \n",
       "1960-11-01                       28.0  \n",
       "1960-12-01                       27.0  "
      ]
     },
     "execution_count": 51,
     "metadata": {},
     "output_type": "execute_result"
    }
   ],
   "source": [
    "test_data"
   ]
  },
  {
   "cell_type": "code",
   "execution_count": 52,
   "metadata": {},
   "outputs": [],
   "source": [
    "##CREATE A ARIMA MODEL"
   ]
  },
  {
   "cell_type": "code",
   "execution_count": 53,
   "metadata": {},
   "outputs": [],
   "source": [
    "from statsmodels.tsa.arima_model import ARIMA"
   ]
  },
  {
   "cell_type": "code",
   "execution_count": 54,
   "metadata": {},
   "outputs": [
    {
     "data": {
      "text/html": [
       "<div>\n",
       "<style scoped>\n",
       "    .dataframe tbody tr th:only-of-type {\n",
       "        vertical-align: middle;\n",
       "    }\n",
       "\n",
       "    .dataframe tbody tr th {\n",
       "        vertical-align: top;\n",
       "    }\n",
       "\n",
       "    .dataframe thead th {\n",
       "        text-align: right;\n",
       "    }\n",
       "</style>\n",
       "<table border=\"1\" class=\"dataframe\">\n",
       "  <thead>\n",
       "    <tr style=\"text-align: right;\">\n",
       "      <th></th>\n",
       "      <th>Thousands of Passengers</th>\n",
       "      <th>Passengers first difference</th>\n",
       "      <th>Passengers Second difference</th>\n",
       "      <th>Passengers Third difference</th>\n",
       "      <th>Passengers 12M difference</th>\n",
       "    </tr>\n",
       "    <tr>\n",
       "      <th>Month</th>\n",
       "      <th></th>\n",
       "      <th></th>\n",
       "      <th></th>\n",
       "      <th></th>\n",
       "      <th></th>\n",
       "    </tr>\n",
       "  </thead>\n",
       "  <tbody>\n",
       "    <tr>\n",
       "      <th>1949-01-01</th>\n",
       "      <td>112.0</td>\n",
       "      <td>NaN</td>\n",
       "      <td>NaN</td>\n",
       "      <td>NaN</td>\n",
       "      <td>NaN</td>\n",
       "    </tr>\n",
       "    <tr>\n",
       "      <th>1949-02-01</th>\n",
       "      <td>118.0</td>\n",
       "      <td>6.0</td>\n",
       "      <td>NaN</td>\n",
       "      <td>NaN</td>\n",
       "      <td>NaN</td>\n",
       "    </tr>\n",
       "    <tr>\n",
       "      <th>1949-03-01</th>\n",
       "      <td>132.0</td>\n",
       "      <td>14.0</td>\n",
       "      <td>126.0</td>\n",
       "      <td>NaN</td>\n",
       "      <td>NaN</td>\n",
       "    </tr>\n",
       "    <tr>\n",
       "      <th>1949-04-01</th>\n",
       "      <td>129.0</td>\n",
       "      <td>-3.0</td>\n",
       "      <td>115.0</td>\n",
       "      <td>3.0</td>\n",
       "      <td>NaN</td>\n",
       "    </tr>\n",
       "    <tr>\n",
       "      <th>1949-05-01</th>\n",
       "      <td>121.0</td>\n",
       "      <td>-8.0</td>\n",
       "      <td>124.0</td>\n",
       "      <td>6.0</td>\n",
       "      <td>NaN</td>\n",
       "    </tr>\n",
       "    <tr>\n",
       "      <th>...</th>\n",
       "      <td>...</td>\n",
       "      <td>...</td>\n",
       "      <td>...</td>\n",
       "      <td>...</td>\n",
       "      <td>...</td>\n",
       "    </tr>\n",
       "    <tr>\n",
       "      <th>1955-08-01</th>\n",
       "      <td>347.0</td>\n",
       "      <td>-17.0</td>\n",
       "      <td>298.0</td>\n",
       "      <td>28.0</td>\n",
       "      <td>54.0</td>\n",
       "    </tr>\n",
       "    <tr>\n",
       "      <th>1955-09-01</th>\n",
       "      <td>312.0</td>\n",
       "      <td>-35.0</td>\n",
       "      <td>329.0</td>\n",
       "      <td>14.0</td>\n",
       "      <td>53.0</td>\n",
       "    </tr>\n",
       "    <tr>\n",
       "      <th>1955-10-01</th>\n",
       "      <td>274.0</td>\n",
       "      <td>-38.0</td>\n",
       "      <td>309.0</td>\n",
       "      <td>-55.0</td>\n",
       "      <td>45.0</td>\n",
       "    </tr>\n",
       "    <tr>\n",
       "      <th>1955-11-01</th>\n",
       "      <td>237.0</td>\n",
       "      <td>-37.0</td>\n",
       "      <td>275.0</td>\n",
       "      <td>-72.0</td>\n",
       "      <td>34.0</td>\n",
       "    </tr>\n",
       "    <tr>\n",
       "      <th>1955-12-01</th>\n",
       "      <td>278.0</td>\n",
       "      <td>41.0</td>\n",
       "      <td>315.0</td>\n",
       "      <td>3.0</td>\n",
       "      <td>49.0</td>\n",
       "    </tr>\n",
       "  </tbody>\n",
       "</table>\n",
       "<p>84 rows × 5 columns</p>\n",
       "</div>"
      ],
      "text/plain": [
       "            Thousands of Passengers  Passengers first difference  \\\n",
       "Month                                                              \n",
       "1949-01-01                    112.0                          NaN   \n",
       "1949-02-01                    118.0                          6.0   \n",
       "1949-03-01                    132.0                         14.0   \n",
       "1949-04-01                    129.0                         -3.0   \n",
       "1949-05-01                    121.0                         -8.0   \n",
       "...                             ...                          ...   \n",
       "1955-08-01                    347.0                        -17.0   \n",
       "1955-09-01                    312.0                        -35.0   \n",
       "1955-10-01                    274.0                        -38.0   \n",
       "1955-11-01                    237.0                        -37.0   \n",
       "1955-12-01                    278.0                         41.0   \n",
       "\n",
       "            Passengers Second difference  Passengers Third difference  \\\n",
       "Month                                                                   \n",
       "1949-01-01                           NaN                          NaN   \n",
       "1949-02-01                           NaN                          NaN   \n",
       "1949-03-01                         126.0                          NaN   \n",
       "1949-04-01                         115.0                          3.0   \n",
       "1949-05-01                         124.0                          6.0   \n",
       "...                                  ...                          ...   \n",
       "1955-08-01                         298.0                         28.0   \n",
       "1955-09-01                         329.0                         14.0   \n",
       "1955-10-01                         309.0                        -55.0   \n",
       "1955-11-01                         275.0                        -72.0   \n",
       "1955-12-01                         315.0                          3.0   \n",
       "\n",
       "            Passengers 12M difference  \n",
       "Month                                  \n",
       "1949-01-01                        NaN  \n",
       "1949-02-01                        NaN  \n",
       "1949-03-01                        NaN  \n",
       "1949-04-01                        NaN  \n",
       "1949-05-01                        NaN  \n",
       "...                               ...  \n",
       "1955-08-01                       54.0  \n",
       "1955-09-01                       53.0  \n",
       "1955-10-01                       45.0  \n",
       "1955-11-01                       34.0  \n",
       "1955-12-01                       49.0  \n",
       "\n",
       "[84 rows x 5 columns]"
      ]
     },
     "execution_count": 54,
     "metadata": {},
     "output_type": "execute_result"
    }
   ],
   "source": [
    "train_data"
   ]
  },
  {
   "cell_type": "code",
   "execution_count": 59,
   "metadata": {},
   "outputs": [
    {
     "name": "stderr",
     "output_type": "stream",
     "text": [
      "C:\\Users\\LAPTOP\\anaconda3\\lib\\site-packages\\statsmodels\\tsa\\base\\tsa_model.py:162: ValueWarning: No frequency information was provided, so inferred frequency MS will be used.\n",
      "  % freq, ValueWarning)\n",
      "C:\\Users\\LAPTOP\\anaconda3\\lib\\site-packages\\statsmodels\\tsa\\base\\tsa_model.py:162: ValueWarning: No frequency information was provided, so inferred frequency MS will be used.\n",
      "  % freq, ValueWarning)\n"
     ]
    }
   ],
   "source": [
    "model_ARIMA = ARIMA(train_data['Thousands of Passengers'],order=(10,2,0))"
   ]
  },
  {
   "cell_type": "code",
   "execution_count": 60,
   "metadata": {},
   "outputs": [],
   "source": [
    "model_ARIMA_fit = model_ARIMA.fit()"
   ]
  },
  {
   "cell_type": "code",
   "execution_count": 61,
   "metadata": {},
   "outputs": [
    {
     "data": {
      "text/html": [
       "<table class=\"simpletable\">\n",
       "<caption>ARIMA Model Results</caption>\n",
       "<tr>\n",
       "  <th>Dep. Variable:</th> <td>D2.Thousands of Passengers</td> <th>  No. Observations:  </th>    <td>82</td>   \n",
       "</tr>\n",
       "<tr>\n",
       "  <th>Model:</th>               <td>ARIMA(10, 2, 0)</td>      <th>  Log Likelihood     </th> <td>-357.239</td>\n",
       "</tr>\n",
       "<tr>\n",
       "  <th>Method:</th>                  <td>css-mle</td>          <th>  S.D. of innovations</th>  <td>18.333</td> \n",
       "</tr>\n",
       "<tr>\n",
       "  <th>Date:</th>               <td>Tue, 27 Sep 2022</td>      <th>  AIC                </th>  <td>738.477</td>\n",
       "</tr>\n",
       "<tr>\n",
       "  <th>Time:</th>                   <td>23:53:58</td>          <th>  BIC                </th>  <td>767.358</td>\n",
       "</tr>\n",
       "<tr>\n",
       "  <th>Sample:</th>                <td>03-01-1949</td>         <th>  HQIC               </th>  <td>750.072</td>\n",
       "</tr>\n",
       "<tr>\n",
       "  <th></th>                      <td>- 12-01-1955</td>        <th>                     </th>     <td> </td>   \n",
       "</tr>\n",
       "</table>\n",
       "<table class=\"simpletable\">\n",
       "<tr>\n",
       "                  <td></td>                     <th>coef</th>     <th>std err</th>      <th>z</th>      <th>P>|z|</th>  <th>[0.025</th>    <th>0.975]</th>  \n",
       "</tr>\n",
       "<tr>\n",
       "  <th>const</th>                             <td>    0.0164</td> <td>    0.347</td> <td>    0.047</td> <td> 0.962</td> <td>   -0.665</td> <td>    0.697</td>\n",
       "</tr>\n",
       "<tr>\n",
       "  <th>ar.L1.D2.Thousands of Passengers</th>  <td>   -0.5165</td> <td>    0.097</td> <td>   -5.300</td> <td> 0.000</td> <td>   -0.707</td> <td>   -0.325</td>\n",
       "</tr>\n",
       "<tr>\n",
       "  <th>ar.L2.D2.Thousands of Passengers</th>  <td>   -0.7203</td> <td>    0.108</td> <td>   -6.650</td> <td> 0.000</td> <td>   -0.933</td> <td>   -0.508</td>\n",
       "</tr>\n",
       "<tr>\n",
       "  <th>ar.L3.D2.Thousands of Passengers</th>  <td>   -0.4856</td> <td>    0.120</td> <td>   -4.032</td> <td> 0.000</td> <td>   -0.722</td> <td>   -0.250</td>\n",
       "</tr>\n",
       "<tr>\n",
       "  <th>ar.L4.D2.Thousands of Passengers</th>  <td>   -0.7506</td> <td>    0.131</td> <td>   -5.717</td> <td> 0.000</td> <td>   -1.008</td> <td>   -0.493</td>\n",
       "</tr>\n",
       "<tr>\n",
       "  <th>ar.L5.D2.Thousands of Passengers</th>  <td>   -0.5065</td> <td>    0.151</td> <td>   -3.360</td> <td> 0.001</td> <td>   -0.802</td> <td>   -0.211</td>\n",
       "</tr>\n",
       "<tr>\n",
       "  <th>ar.L6.D2.Thousands of Passengers</th>  <td>   -0.5204</td> <td>    0.149</td> <td>   -3.500</td> <td> 0.000</td> <td>   -0.812</td> <td>   -0.229</td>\n",
       "</tr>\n",
       "<tr>\n",
       "  <th>ar.L7.D2.Thousands of Passengers</th>  <td>   -0.3055</td> <td>    0.136</td> <td>   -2.250</td> <td> 0.024</td> <td>   -0.572</td> <td>   -0.039</td>\n",
       "</tr>\n",
       "<tr>\n",
       "  <th>ar.L8.D2.Thousands of Passengers</th>  <td>   -0.5943</td> <td>    0.125</td> <td>   -4.744</td> <td> 0.000</td> <td>   -0.840</td> <td>   -0.349</td>\n",
       "</tr>\n",
       "<tr>\n",
       "  <th>ar.L9.D2.Thousands of Passengers</th>  <td>   -0.2966</td> <td>    0.116</td> <td>   -2.556</td> <td> 0.011</td> <td>   -0.524</td> <td>   -0.069</td>\n",
       "</tr>\n",
       "<tr>\n",
       "  <th>ar.L10.D2.Thousands of Passengers</th> <td>   -0.4826</td> <td>    0.101</td> <td>   -4.765</td> <td> 0.000</td> <td>   -0.681</td> <td>   -0.284</td>\n",
       "</tr>\n",
       "</table>\n",
       "<table class=\"simpletable\">\n",
       "<caption>Roots</caption>\n",
       "<tr>\n",
       "    <td></td>    <th>            Real</th>  <th>         Imaginary</th> <th>         Modulus</th>  <th>        Frequency</th>\n",
       "</tr>\n",
       "<tr>\n",
       "  <th>AR.1</th>  <td>           0.9098</td> <td>          -0.5670j</td> <td>           1.0720</td> <td>          -0.0887</td>\n",
       "</tr>\n",
       "<tr>\n",
       "  <th>AR.2</th>  <td>           0.9098</td> <td>          +0.5670j</td> <td>           1.0720</td> <td>           0.0887</td>\n",
       "</tr>\n",
       "<tr>\n",
       "  <th>AR.3</th>  <td>           0.4844</td> <td>          -0.9210j</td> <td>           1.0406</td> <td>          -0.1729</td>\n",
       "</tr>\n",
       "<tr>\n",
       "  <th>AR.4</th>  <td>           0.4844</td> <td>          +0.9210j</td> <td>           1.0406</td> <td>           0.1729</td>\n",
       "</tr>\n",
       "<tr>\n",
       "  <th>AR.5</th>  <td>          -0.9676</td> <td>          -0.4146j</td> <td>           1.0527</td> <td>          -0.4356</td>\n",
       "</tr>\n",
       "<tr>\n",
       "  <th>AR.6</th>  <td>          -0.9676</td> <td>          +0.4146j</td> <td>           1.0527</td> <td>           0.4356</td>\n",
       "</tr>\n",
       "<tr>\n",
       "  <th>AR.7</th>  <td>          -0.6004</td> <td>          -0.8889j</td> <td>           1.0726</td> <td>          -0.3445</td>\n",
       "</tr>\n",
       "<tr>\n",
       "  <th>AR.8</th>  <td>          -0.6004</td> <td>          +0.8889j</td> <td>           1.0726</td> <td>           0.3445</td>\n",
       "</tr>\n",
       "<tr>\n",
       "  <th>AR.9</th>  <td>          -0.1335</td> <td>          -1.1349j</td> <td>           1.1427</td> <td>          -0.2686</td>\n",
       "</tr>\n",
       "<tr>\n",
       "  <th>AR.10</th> <td>          -0.1335</td> <td>          +1.1349j</td> <td>           1.1427</td> <td>           0.2686</td>\n",
       "</tr>\n",
       "</table>"
      ],
      "text/plain": [
       "<class 'statsmodels.iolib.summary.Summary'>\n",
       "\"\"\"\n",
       "                                 ARIMA Model Results                                  \n",
       "======================================================================================\n",
       "Dep. Variable:     D2.Thousands of Passengers   No. Observations:                   82\n",
       "Model:                        ARIMA(10, 2, 0)   Log Likelihood                -357.239\n",
       "Method:                               css-mle   S.D. of innovations             18.333\n",
       "Date:                        Tue, 27 Sep 2022   AIC                            738.477\n",
       "Time:                                23:53:58   BIC                            767.358\n",
       "Sample:                            03-01-1949   HQIC                           750.072\n",
       "                                 - 12-01-1955                                         \n",
       "=====================================================================================================\n",
       "                                        coef    std err          z      P>|z|      [0.025      0.975]\n",
       "-----------------------------------------------------------------------------------------------------\n",
       "const                                 0.0164      0.347      0.047      0.962      -0.665       0.697\n",
       "ar.L1.D2.Thousands of Passengers     -0.5165      0.097     -5.300      0.000      -0.707      -0.325\n",
       "ar.L2.D2.Thousands of Passengers     -0.7203      0.108     -6.650      0.000      -0.933      -0.508\n",
       "ar.L3.D2.Thousands of Passengers     -0.4856      0.120     -4.032      0.000      -0.722      -0.250\n",
       "ar.L4.D2.Thousands of Passengers     -0.7506      0.131     -5.717      0.000      -1.008      -0.493\n",
       "ar.L5.D2.Thousands of Passengers     -0.5065      0.151     -3.360      0.001      -0.802      -0.211\n",
       "ar.L6.D2.Thousands of Passengers     -0.5204      0.149     -3.500      0.000      -0.812      -0.229\n",
       "ar.L7.D2.Thousands of Passengers     -0.3055      0.136     -2.250      0.024      -0.572      -0.039\n",
       "ar.L8.D2.Thousands of Passengers     -0.5943      0.125     -4.744      0.000      -0.840      -0.349\n",
       "ar.L9.D2.Thousands of Passengers     -0.2966      0.116     -2.556      0.011      -0.524      -0.069\n",
       "ar.L10.D2.Thousands of Passengers    -0.4826      0.101     -4.765      0.000      -0.681      -0.284\n",
       "                                    Roots                                     \n",
       "==============================================================================\n",
       "                   Real          Imaginary           Modulus         Frequency\n",
       "------------------------------------------------------------------------------\n",
       "AR.1             0.9098           -0.5670j            1.0720           -0.0887\n",
       "AR.2             0.9098           +0.5670j            1.0720            0.0887\n",
       "AR.3             0.4844           -0.9210j            1.0406           -0.1729\n",
       "AR.4             0.4844           +0.9210j            1.0406            0.1729\n",
       "AR.5            -0.9676           -0.4146j            1.0527           -0.4356\n",
       "AR.6            -0.9676           +0.4146j            1.0527            0.4356\n",
       "AR.7            -0.6004           -0.8889j            1.0726           -0.3445\n",
       "AR.8            -0.6004           +0.8889j            1.0726            0.3445\n",
       "AR.9            -0.1335           -1.1349j            1.1427           -0.2686\n",
       "AR.10           -0.1335           +1.1349j            1.1427            0.2686\n",
       "------------------------------------------------------------------------------\n",
       "\"\"\""
      ]
     },
     "execution_count": 61,
     "metadata": {},
     "output_type": "execute_result"
    }
   ],
   "source": [
    "model_ARIMA_fit.summary()"
   ]
  },
  {
   "cell_type": "code",
   "execution_count": 62,
   "metadata": {},
   "outputs": [
    {
     "name": "stdout",
     "output_type": "stream",
     "text": [
      "1956-01-01 00:00:00\n",
      "1960-12-01 00:00:00\n"
     ]
    }
   ],
   "source": [
    "pred_start_date=test_data.index[0]\n",
    "pred_end_date=test_data.index[-1]\n",
    "print(pred_start_date)\n",
    "print(pred_end_date)"
   ]
  },
  {
   "cell_type": "code",
   "execution_count": 64,
   "metadata": {},
   "outputs": [],
   "source": [
    "pred = model_ARIMA_fit.predict(start=pred_start_date,end=pred_end_date)\n",
    "residuals = test_data['Thousands of Passengers']-pred"
   ]
  },
  {
   "cell_type": "code",
   "execution_count": 65,
   "metadata": {},
   "outputs": [
    {
     "data": {
      "text/plain": [
       "Month\n",
       "1956-01-01    302.695975\n",
       "1956-02-01    289.830793\n",
       "1956-03-01    319.329671\n",
       "1956-04-01    328.562173\n",
       "1956-05-01    298.689309\n",
       "1956-06-01    354.352089\n",
       "1956-07-01    426.271459\n",
       "1956-08-01    441.529627\n",
       "1956-09-01    350.001329\n",
       "1956-10-01    315.913222\n",
       "1956-11-01    242.711495\n",
       "1956-12-01    281.647803\n",
       "1957-01-01    333.119975\n",
       "1957-02-01    304.741458\n",
       "1957-03-01    367.652384\n",
       "1957-04-01    343.198152\n",
       "1957-05-01    343.325747\n",
       "1957-06-01    413.019349\n",
       "1957-07-01    483.932095\n",
       "1957-08-01    477.557307\n",
       "1957-09-01    403.265268\n",
       "1957-10-01    346.226375\n",
       "1957-11-01    281.802348\n",
       "1957-12-01    337.112083\n",
       "1958-01-01    347.244796\n",
       "1958-02-01    325.413854\n",
       "1958-03-01    364.318087\n",
       "1958-04-01    341.830111\n",
       "1958-05-01    355.290669\n",
       "1958-06-01    435.056479\n",
       "1958-07-01    504.184593\n",
       "1958-08-01    505.771332\n",
       "1958-09-01    405.976045\n",
       "1958-10-01    350.193226\n",
       "1958-11-01    301.548559\n",
       "1958-12-01    341.117857\n",
       "1959-01-01    364.677796\n",
       "1959-02-01    347.031467\n",
       "1959-03-01    403.339729\n",
       "1959-04-01    392.149759\n",
       "1959-05-01    415.086075\n",
       "1959-06-01    477.071067\n",
       "1959-07-01    553.126381\n",
       "1959-08-01    559.484651\n",
       "1959-09-01    462.056169\n",
       "1959-10-01    399.681986\n",
       "1959-11-01    361.271118\n",
       "1959-12-01    407.556227\n",
       "1960-01-01    421.249815\n",
       "1960-02-01    391.671050\n",
       "1960-03-01    416.667442\n",
       "1960-04-01    457.847579\n",
       "1960-05-01    470.955138\n",
       "1960-06-01    539.473428\n",
       "1960-07-01    623.349806\n",
       "1960-08-01    606.615669\n",
       "1960-09-01    504.893953\n",
       "1960-10-01    458.035866\n",
       "1960-11-01    390.732256\n",
       "1960-12-01    434.251371\n",
       "dtype: float64"
      ]
     },
     "execution_count": 65,
     "metadata": {},
     "output_type": "execute_result"
    }
   ],
   "source": [
    "residuals"
   ]
  },
  {
   "cell_type": "code",
   "execution_count": 66,
   "metadata": {},
   "outputs": [
    {
     "data": {
      "text/plain": [
       "<matplotlib.axes._subplots.AxesSubplot at 0x1e0f4a94a48>"
      ]
     },
     "execution_count": 66,
     "metadata": {},
     "output_type": "execute_result"
    },
    {
     "data": {
      "image/png": "[encoded data removed]",
      "text/plain": [
       "<Figure size 432x288 with 1 Axes>"
      ]
     },
     "metadata": {
      "needs_background": "light"
     },
     "output_type": "display_data"
    }
   ],
   "source": [
    "model_ARIMA_fit.resid.plot(kind='kde')"
   ]
  },
  {
   "cell_type": "code",
   "execution_count": 67,
   "metadata": {},
   "outputs": [
    {
     "name": "stderr",
     "output_type": "stream",
     "text": [
      "C:\\Users\\LAPTOP\\anaconda3\\lib\\site-packages\\ipykernel_launcher.py:1: SettingWithCopyWarning: \n",
      "A value is trying to be set on a copy of a slice from a DataFrame.\n",
      "Try using .loc[row_indexer,col_indexer] = value instead\n",
      "\n",
      "See the caveats in the documentation: https://pandas.pydata.org/pandas-docs/stable/user_guide/indexing.html#returning-a-view-versus-a-copy\n",
      "  \"\"\"Entry point for launching an IPython kernel.\n"
     ]
    }
   ],
   "source": [
    "test_data['Predicted_ARIMA'] = pred"
   ]
  },
  {
   "cell_type": "code",
   "execution_count": 68,
   "metadata": {},
   "outputs": [
    {
     "data": {
      "text/plain": [
       "<matplotlib.axes._subplots.AxesSubplot at 0x1e0f423d808>"
      ]
     },
     "execution_count": 68,
     "metadata": {},
     "output_type": "execute_result"
    },
    {
     "data": {
      "image/png": "[encoded data removed]",
      "text/plain": [
       "<Figure size 432x288 with 1 Axes>"
      ]
     },
     "metadata": {
      "needs_background": "light"
     },
     "output_type": "display_data"
    }
   ],
   "source": [
    "test_data[['Thousands of Passengers','Predicted_ARIMA']].plot()"
   ]
  },
  {
   "cell_type": "code",
   "execution_count": 69,
   "metadata": {},
   "outputs": [],
   "source": [
    "from statsmodels.tsa.statespace.sarimax import SARIMAX"
   ]
  },
  {
   "cell_type": "code",
   "execution_count": 70,
   "metadata": {},
   "outputs": [
    {
     "name": "stderr",
     "output_type": "stream",
     "text": [
      "C:\\Users\\LAPTOP\\anaconda3\\lib\\site-packages\\statsmodels\\tsa\\base\\tsa_model.py:162: ValueWarning: No frequency information was provided, so inferred frequency MS will be used.\n",
      "  % freq, ValueWarning)\n",
      "C:\\Users\\LAPTOP\\anaconda3\\lib\\site-packages\\statsmodels\\tsa\\base\\tsa_model.py:162: ValueWarning: No frequency information was provided, so inferred frequency MS will be used.\n",
      "  % freq, ValueWarning)\n"
     ]
    }
   ],
   "source": [
    "model_SARIMA = SARIMAX(train_data['Thousands of Passengers'],order=(3,0,5),seasonal_order=(1,1,1,12))"
   ]
  },
  {
   "cell_type": "code",
   "execution_count": 71,
   "metadata": {},
   "outputs": [
    {
     "name": "stderr",
     "output_type": "stream",
     "text": [
      "C:\\Users\\LAPTOP\\anaconda3\\lib\\site-packages\\statsmodels\\base\\model.py:568: ConvergenceWarning: Maximum Likelihood optimization failed to converge. Check mle_retvals\n",
      "  \"Check mle_retvals\", ConvergenceWarning)\n"
     ]
    }
   ],
   "source": [
    "model_SARIMA_fit = model_SARIMA.fit()"
   ]
  },
  {
   "cell_type": "code",
   "execution_count": 72,
   "metadata": {},
   "outputs": [
    {
     "data": {
      "text/html": [
       "<table class=\"simpletable\">\n",
       "<caption>SARIMAX Results</caption>\n",
       "<tr>\n",
       "  <th>Dep. Variable:</th>        <td>Thousands of Passengers</td>     <th>  No. Observations:  </th>    <td>84</td>   \n",
       "</tr>\n",
       "<tr>\n",
       "  <th>Model:</th>           <td>SARIMAX(3, 0, 5)x(1, 1, [1], 12)</td> <th>  Log Likelihood     </th> <td>-263.916</td>\n",
       "</tr>\n",
       "<tr>\n",
       "  <th>Date:</th>                    <td>Wed, 28 Sep 2022</td>         <th>  AIC                </th>  <td>549.831</td>\n",
       "</tr>\n",
       "<tr>\n",
       "  <th>Time:</th>                        <td>00:10:05</td>             <th>  BIC                </th>  <td>574.875</td>\n",
       "</tr>\n",
       "<tr>\n",
       "  <th>Sample:</th>                     <td>01-01-1949</td>            <th>  HQIC               </th>  <td>559.801</td>\n",
       "</tr>\n",
       "<tr>\n",
       "  <th></th>                           <td>- 12-01-1955</td>           <th>                     </th>     <td> </td>   \n",
       "</tr>\n",
       "<tr>\n",
       "  <th>Covariance Type:</th>                <td>opg</td>               <th>                     </th>     <td> </td>   \n",
       "</tr>\n",
       "</table>\n",
       "<table class=\"simpletable\">\n",
       "<tr>\n",
       "      <td></td>        <th>coef</th>     <th>std err</th>      <th>z</th>      <th>P>|z|</th>  <th>[0.025</th>    <th>0.975]</th>  \n",
       "</tr>\n",
       "<tr>\n",
       "  <th>ar.L1</th>    <td>    0.5536</td> <td>    3.394</td> <td>    0.163</td> <td> 0.870</td> <td>   -6.098</td> <td>    7.206</td>\n",
       "</tr>\n",
       "<tr>\n",
       "  <th>ar.L2</th>    <td>    0.8508</td> <td>    0.385</td> <td>    2.212</td> <td> 0.027</td> <td>    0.097</td> <td>    1.605</td>\n",
       "</tr>\n",
       "<tr>\n",
       "  <th>ar.L3</th>    <td>   -0.4154</td> <td>    3.089</td> <td>   -0.135</td> <td> 0.893</td> <td>   -6.469</td> <td>    5.638</td>\n",
       "</tr>\n",
       "<tr>\n",
       "  <th>ma.L1</th>    <td>    0.2090</td> <td>    3.309</td> <td>    0.063</td> <td> 0.950</td> <td>   -6.277</td> <td>    6.695</td>\n",
       "</tr>\n",
       "<tr>\n",
       "  <th>ma.L2</th>    <td>   -0.5088</td> <td>    2.436</td> <td>   -0.209</td> <td> 0.835</td> <td>   -5.284</td> <td>    4.266</td>\n",
       "</tr>\n",
       "<tr>\n",
       "  <th>ma.L3</th>    <td>   -0.0927</td> <td>    0.696</td> <td>   -0.133</td> <td> 0.894</td> <td>   -1.458</td> <td>    1.272</td>\n",
       "</tr>\n",
       "<tr>\n",
       "  <th>ma.L4</th>    <td>   -0.1906</td> <td>    0.538</td> <td>   -0.354</td> <td> 0.723</td> <td>   -1.246</td> <td>    0.865</td>\n",
       "</tr>\n",
       "<tr>\n",
       "  <th>ma.L5</th>    <td>    0.1649</td> <td>    0.927</td> <td>    0.178</td> <td> 0.859</td> <td>   -1.653</td> <td>    1.982</td>\n",
       "</tr>\n",
       "<tr>\n",
       "  <th>ar.S.L12</th> <td>   -0.3163</td> <td>    0.856</td> <td>   -0.370</td> <td> 0.712</td> <td>   -1.993</td> <td>    1.361</td>\n",
       "</tr>\n",
       "<tr>\n",
       "  <th>ma.S.L12</th> <td>    0.1072</td> <td>    0.943</td> <td>    0.114</td> <td> 0.909</td> <td>   -1.740</td> <td>    1.955</td>\n",
       "</tr>\n",
       "<tr>\n",
       "  <th>sigma2</th>   <td>   84.1544</td> <td>   29.609</td> <td>    2.842</td> <td> 0.004</td> <td>   26.122</td> <td>  142.187</td>\n",
       "</tr>\n",
       "</table>\n",
       "<table class=\"simpletable\">\n",
       "<tr>\n",
       "  <th>Ljung-Box (Q):</th>          <td>23.90</td> <th>  Jarque-Bera (JB):  </th> <td>1.88</td>\n",
       "</tr>\n",
       "<tr>\n",
       "  <th>Prob(Q):</th>                <td>0.98</td>  <th>  Prob(JB):          </th> <td>0.39</td>\n",
       "</tr>\n",
       "<tr>\n",
       "  <th>Heteroskedasticity (H):</th> <td>2.41</td>  <th>  Skew:              </th> <td>0.39</td>\n",
       "</tr>\n",
       "<tr>\n",
       "  <th>Prob(H) (two-sided):</th>    <td>0.04</td>  <th>  Kurtosis:          </th> <td>2.94</td>\n",
       "</tr>\n",
       "</table><br/><br/>Warnings:<br/>[1] Covariance matrix calculated using the outer product of gradients (complex-step)."
      ],
      "text/plain": [
       "<class 'statsmodels.iolib.summary.Summary'>\n",
       "\"\"\"\n",
       "                                      SARIMAX Results                                       \n",
       "============================================================================================\n",
       "Dep. Variable:              Thousands of Passengers   No. Observations:                   84\n",
       "Model:             SARIMAX(3, 0, 5)x(1, 1, [1], 12)   Log Likelihood                -263.916\n",
       "Date:                              Wed, 28 Sep 2022   AIC                            549.831\n",
       "Time:                                      00:10:05   BIC                            574.875\n",
       "Sample:                                  01-01-1949   HQIC                           559.801\n",
       "                                       - 12-01-1955                                         \n",
       "Covariance Type:                                opg                                         \n",
       "==============================================================================\n",
       "                 coef    std err          z      P>|z|      [0.025      0.975]\n",
       "------------------------------------------------------------------------------\n",
       "ar.L1          0.5536      3.394      0.163      0.870      -6.098       7.206\n",
       "ar.L2          0.8508      0.385      2.212      0.027       0.097       1.605\n",
       "ar.L3         -0.4154      3.089     -0.135      0.893      -6.469       5.638\n",
       "ma.L1          0.2090      3.309      0.063      0.950      -6.277       6.695\n",
       "ma.L2         -0.5088      2.436     -0.209      0.835      -5.284       4.266\n",
       "ma.L3         -0.0927      0.696     -0.133      0.894      -1.458       1.272\n",
       "ma.L4         -0.1906      0.538     -0.354      0.723      -1.246       0.865\n",
       "ma.L5          0.1649      0.927      0.178      0.859      -1.653       1.982\n",
       "ar.S.L12      -0.3163      0.856     -0.370      0.712      -1.993       1.361\n",
       "ma.S.L12       0.1072      0.943      0.114      0.909      -1.740       1.955\n",
       "sigma2        84.1544     29.609      2.842      0.004      26.122     142.187\n",
       "===================================================================================\n",
       "Ljung-Box (Q):                       23.90   Jarque-Bera (JB):                 1.88\n",
       "Prob(Q):                              0.98   Prob(JB):                         0.39\n",
       "Heteroskedasticity (H):               2.41   Skew:                             0.39\n",
       "Prob(H) (two-sided):                  0.04   Kurtosis:                         2.94\n",
       "===================================================================================\n",
       "\n",
       "Warnings:\n",
       "[1] Covariance matrix calculated using the outer product of gradients (complex-step).\n",
       "\"\"\""
      ]
     },
     "execution_count": 72,
     "metadata": {},
     "output_type": "execute_result"
    }
   ],
   "source": [
    "model_SARIMA_fit.summary()"
   ]
  },
  {
   "cell_type": "code",
   "execution_count": 73,
   "metadata": {},
   "outputs": [],
   "source": [
    "##prediction"
   ]
  },
  {
   "cell_type": "code",
   "execution_count": 74,
   "metadata": {},
   "outputs": [
    {
     "name": "stdout",
     "output_type": "stream",
     "text": [
      "1956-01-01 00:00:00\n",
      "1960-12-01 00:00:00\n"
     ]
    }
   ],
   "source": [
    "pred_start_date = test_data.index[0]\n",
    "pred_end_date = test_data.index[-1]\n",
    "print(pred_start_date)\n",
    "print(pred_end_date)"
   ]
  },
  {
   "cell_type": "code",
   "execution_count": 79,
   "metadata": {},
   "outputs": [],
   "source": [
    "pred_Sarima = model_SARIMA_fit.predict(start=datetime(1956,6,6),end=datetime(1960,12,1))\n",
    "residuals = test_data['Thousands of Passengers']-pred_Sarima"
   ]
  },
  {
   "cell_type": "code",
   "execution_count": 80,
   "metadata": {},
   "outputs": [
    {
     "data": {
      "text/plain": [
       "1956-01-01           NaN\n",
       "1956-02-01           NaN\n",
       "1956-03-01           NaN\n",
       "1956-04-01           NaN\n",
       "1956-05-01           NaN\n",
       "1956-06-01           NaN\n",
       "1956-07-01     14.056728\n",
       "1956-08-01     22.108915\n",
       "1956-09-01      7.512657\n",
       "1956-10-01     -4.710648\n",
       "1956-11-01     -4.548624\n",
       "1956-12-01     -7.132494\n",
       "1957-01-01     -4.584424\n",
       "1957-02-01    -11.745250\n",
       "1957-03-01     11.769433\n",
       "1957-04-01      3.829458\n",
       "1957-05-01      9.791715\n",
       "1957-06-01     34.298929\n",
       "1957-07-01     30.653453\n",
       "1957-08-01     49.451425\n",
       "1957-09-01     22.278700\n",
       "1957-10-01      2.889039\n",
       "1957-11-01     -2.836487\n",
       "1957-12-01    -10.056058\n",
       "1958-01-01    -11.588245\n",
       "1958-02-01    -26.571582\n",
       "1958-03-01    -13.689504\n",
       "1958-04-01    -27.084640\n",
       "1958-05-01    -12.921189\n",
       "1958-06-01     17.181424\n",
       "1958-07-01     27.081854\n",
       "1958-08-01     58.070095\n",
       "1958-09-01     -6.783487\n",
       "1958-10-01    -14.017112\n",
       "1958-11-01    -26.653715\n",
       "1958-12-01    -37.259247\n",
       "1959-01-01    -19.653100\n",
       "1959-02-01    -30.286740\n",
       "1959-03-01      2.897484\n",
       "1959-04-01     -6.271448\n",
       "1959-05-01     17.236350\n",
       "1959-06-01     27.541770\n",
       "1959-07-01     57.667595\n",
       "1959-08-01     85.979335\n",
       "1959-09-01     26.413401\n",
       "1959-10-01      8.506612\n",
       "1959-11-01      0.221373\n",
       "1959-12-01      5.790310\n",
       "1960-01-01     12.723408\n",
       "1960-02-01     -5.659578\n",
       "1960-03-01     -8.208708\n",
       "1960-04-01     34.904704\n",
       "1960-05-01     45.657587\n",
       "1960-06-01     67.245454\n",
       "1960-07-01    108.646035\n",
       "1960-08-01    110.194835\n",
       "1960-09-01     48.876233\n",
       "1960-10-01     40.198347\n",
       "1960-11-01      6.132766\n",
       "1960-12-01     10.971815\n",
       "dtype: float64"
      ]
     },
     "execution_count": 80,
     "metadata": {},
     "output_type": "execute_result"
    }
   ],
   "source": [
    "residuals"
   ]
  },
  {
   "cell_type": "code",
   "execution_count": 81,
   "metadata": {},
   "outputs": [
    {
     "name": "stderr",
     "output_type": "stream",
     "text": [
      "C:\\Users\\LAPTOP\\anaconda3\\lib\\site-packages\\ipykernel_launcher.py:1: SettingWithCopyWarning: \n",
      "A value is trying to be set on a copy of a slice from a DataFrame.\n",
      "Try using .loc[row_indexer,col_indexer] = value instead\n",
      "\n",
      "See the caveats in the documentation: https://pandas.pydata.org/pandas-docs/stable/user_guide/indexing.html#returning-a-view-versus-a-copy\n",
      "  \"\"\"Entry point for launching an IPython kernel.\n"
     ]
    }
   ],
   "source": [
    "test_data['Predicted_Sarima'] = pred_Sarima"
   ]
  },
  {
   "cell_type": "code",
   "execution_count": 82,
   "metadata": {},
   "outputs": [
    {
     "data": {
      "text/plain": [
       "<matplotlib.axes._subplots.AxesSubplot at 0x1e0f4a98b48>"
      ]
     },
     "execution_count": 82,
     "metadata": {},
     "output_type": "execute_result"
    },
    {
     "data": {
      "image/png": "[encoded data removed]",
      "text/plain": [
       "<Figure size 432x288 with 1 Axes>"
      ]
     },
     "metadata": {
      "needs_background": "light"
     },
     "output_type": "display_data"
    }
   ],
   "source": [
    "test_data[['Thousands of Passengers','Predicted_Sarima','Predicted_ARIMA']].plot()"
   ]
  },
  {
   "cell_type": "code",
   "execution_count": null,
   "metadata": {},
   "outputs": [],
   "source": []
  }
 ],
 "metadata": {
  "kernelspec": {
   "display_name": "Python 3",
   "language": "python",
   "name": "python3"
  },
  "language_info": {
   "codemirror_mode": {
    "name": "ipython",
    "version": 3
   },
   "file_extension": ".py",
   "mimetype": "text/x-python",
   "name": "python",
   "nbconvert_exporter": "python",
   "pygments_lexer": "ipython3",
   "version": "3.7.6"
  }
 },
 "nbformat": 4,
 "nbformat_minor": 4
}
